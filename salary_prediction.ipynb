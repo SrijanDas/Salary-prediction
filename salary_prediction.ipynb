{
 "cells": [
  {
   "cell_type": "code",
   "execution_count": 1,
   "id": "8fbfd8bf",
   "metadata": {},
   "outputs": [],
   "source": [
    "import pandas as pd\n",
    "import numpy as np\n",
    "import matplotlib.pyplot as plt"
   ]
  },
  {
   "cell_type": "code",
   "execution_count": 2,
   "id": "6b87ff66",
   "metadata": {},
   "outputs": [
    {
     "data": {
      "text/html": [
       "<div>\n",
       "<style scoped>\n",
       "    .dataframe tbody tr th:only-of-type {\n",
       "        vertical-align: middle;\n",
       "    }\n",
       "\n",
       "    .dataframe tbody tr th {\n",
       "        vertical-align: top;\n",
       "    }\n",
       "\n",
       "    .dataframe thead th {\n",
       "        text-align: right;\n",
       "    }\n",
       "</style>\n",
       "<table border=\"1\" class=\"dataframe\">\n",
       "  <thead>\n",
       "    <tr style=\"text-align: right;\">\n",
       "      <th></th>\n",
       "      <th>Respondent</th>\n",
       "      <th>MainBranch</th>\n",
       "      <th>Hobbyist</th>\n",
       "      <th>Age</th>\n",
       "      <th>Age1stCode</th>\n",
       "      <th>CompFreq</th>\n",
       "      <th>CompTotal</th>\n",
       "      <th>ConvertedComp</th>\n",
       "      <th>Country</th>\n",
       "      <th>CurrencyDesc</th>\n",
       "      <th>...</th>\n",
       "      <th>SurveyEase</th>\n",
       "      <th>SurveyLength</th>\n",
       "      <th>Trans</th>\n",
       "      <th>UndergradMajor</th>\n",
       "      <th>WebframeDesireNextYear</th>\n",
       "      <th>WebframeWorkedWith</th>\n",
       "      <th>WelcomeChange</th>\n",
       "      <th>WorkWeekHrs</th>\n",
       "      <th>YearsCode</th>\n",
       "      <th>YearsCodePro</th>\n",
       "    </tr>\n",
       "  </thead>\n",
       "  <tbody>\n",
       "    <tr>\n",
       "      <th>0</th>\n",
       "      <td>1</td>\n",
       "      <td>I am a developer by profession</td>\n",
       "      <td>Yes</td>\n",
       "      <td>NaN</td>\n",
       "      <td>13</td>\n",
       "      <td>Monthly</td>\n",
       "      <td>NaN</td>\n",
       "      <td>NaN</td>\n",
       "      <td>Germany</td>\n",
       "      <td>European Euro</td>\n",
       "      <td>...</td>\n",
       "      <td>Neither easy nor difficult</td>\n",
       "      <td>Appropriate in length</td>\n",
       "      <td>No</td>\n",
       "      <td>Computer science, computer engineering, or sof...</td>\n",
       "      <td>ASP.NET Core</td>\n",
       "      <td>ASP.NET;ASP.NET Core</td>\n",
       "      <td>Just as welcome now as I felt last year</td>\n",
       "      <td>50.0</td>\n",
       "      <td>36</td>\n",
       "      <td>27</td>\n",
       "    </tr>\n",
       "    <tr>\n",
       "      <th>1</th>\n",
       "      <td>2</td>\n",
       "      <td>I am a developer by profession</td>\n",
       "      <td>No</td>\n",
       "      <td>NaN</td>\n",
       "      <td>19</td>\n",
       "      <td>NaN</td>\n",
       "      <td>NaN</td>\n",
       "      <td>NaN</td>\n",
       "      <td>United Kingdom</td>\n",
       "      <td>Pound sterling</td>\n",
       "      <td>...</td>\n",
       "      <td>NaN</td>\n",
       "      <td>NaN</td>\n",
       "      <td>NaN</td>\n",
       "      <td>Computer science, computer engineering, or sof...</td>\n",
       "      <td>NaN</td>\n",
       "      <td>NaN</td>\n",
       "      <td>Somewhat more welcome now than last year</td>\n",
       "      <td>NaN</td>\n",
       "      <td>7</td>\n",
       "      <td>4</td>\n",
       "    </tr>\n",
       "    <tr>\n",
       "      <th>2</th>\n",
       "      <td>3</td>\n",
       "      <td>I code primarily as a hobby</td>\n",
       "      <td>Yes</td>\n",
       "      <td>NaN</td>\n",
       "      <td>15</td>\n",
       "      <td>NaN</td>\n",
       "      <td>NaN</td>\n",
       "      <td>NaN</td>\n",
       "      <td>Russian Federation</td>\n",
       "      <td>NaN</td>\n",
       "      <td>...</td>\n",
       "      <td>Neither easy nor difficult</td>\n",
       "      <td>Appropriate in length</td>\n",
       "      <td>NaN</td>\n",
       "      <td>NaN</td>\n",
       "      <td>NaN</td>\n",
       "      <td>NaN</td>\n",
       "      <td>Somewhat more welcome now than last year</td>\n",
       "      <td>NaN</td>\n",
       "      <td>4</td>\n",
       "      <td>NaN</td>\n",
       "    </tr>\n",
       "    <tr>\n",
       "      <th>3</th>\n",
       "      <td>4</td>\n",
       "      <td>I am a developer by profession</td>\n",
       "      <td>Yes</td>\n",
       "      <td>25.0</td>\n",
       "      <td>18</td>\n",
       "      <td>NaN</td>\n",
       "      <td>NaN</td>\n",
       "      <td>NaN</td>\n",
       "      <td>Albania</td>\n",
       "      <td>Albanian lek</td>\n",
       "      <td>...</td>\n",
       "      <td>NaN</td>\n",
       "      <td>NaN</td>\n",
       "      <td>No</td>\n",
       "      <td>Computer science, computer engineering, or sof...</td>\n",
       "      <td>NaN</td>\n",
       "      <td>NaN</td>\n",
       "      <td>Somewhat less welcome now than last year</td>\n",
       "      <td>40.0</td>\n",
       "      <td>7</td>\n",
       "      <td>4</td>\n",
       "    </tr>\n",
       "    <tr>\n",
       "      <th>4</th>\n",
       "      <td>5</td>\n",
       "      <td>I used to be a developer by profession, but no...</td>\n",
       "      <td>Yes</td>\n",
       "      <td>31.0</td>\n",
       "      <td>16</td>\n",
       "      <td>NaN</td>\n",
       "      <td>NaN</td>\n",
       "      <td>NaN</td>\n",
       "      <td>United States</td>\n",
       "      <td>NaN</td>\n",
       "      <td>...</td>\n",
       "      <td>Easy</td>\n",
       "      <td>Too short</td>\n",
       "      <td>No</td>\n",
       "      <td>Computer science, computer engineering, or sof...</td>\n",
       "      <td>Django;Ruby on Rails</td>\n",
       "      <td>Ruby on Rails</td>\n",
       "      <td>Just as welcome now as I felt last year</td>\n",
       "      <td>NaN</td>\n",
       "      <td>15</td>\n",
       "      <td>8</td>\n",
       "    </tr>\n",
       "  </tbody>\n",
       "</table>\n",
       "<p>5 rows × 61 columns</p>\n",
       "</div>"
      ],
      "text/plain": [
       "   Respondent                                         MainBranch Hobbyist  \\\n",
       "0           1                     I am a developer by profession      Yes   \n",
       "1           2                     I am a developer by profession       No   \n",
       "2           3                        I code primarily as a hobby      Yes   \n",
       "3           4                     I am a developer by profession      Yes   \n",
       "4           5  I used to be a developer by profession, but no...      Yes   \n",
       "\n",
       "    Age Age1stCode CompFreq  CompTotal  ConvertedComp             Country  \\\n",
       "0   NaN         13  Monthly        NaN            NaN             Germany   \n",
       "1   NaN         19      NaN        NaN            NaN      United Kingdom   \n",
       "2   NaN         15      NaN        NaN            NaN  Russian Federation   \n",
       "3  25.0         18      NaN        NaN            NaN             Albania   \n",
       "4  31.0         16      NaN        NaN            NaN       United States   \n",
       "\n",
       "     CurrencyDesc  ...                  SurveyEase           SurveyLength  \\\n",
       "0   European Euro  ...  Neither easy nor difficult  Appropriate in length   \n",
       "1  Pound sterling  ...                         NaN                    NaN   \n",
       "2             NaN  ...  Neither easy nor difficult  Appropriate in length   \n",
       "3    Albanian lek  ...                         NaN                    NaN   \n",
       "4             NaN  ...                        Easy              Too short   \n",
       "\n",
       "  Trans                                     UndergradMajor  \\\n",
       "0    No  Computer science, computer engineering, or sof...   \n",
       "1   NaN  Computer science, computer engineering, or sof...   \n",
       "2   NaN                                                NaN   \n",
       "3    No  Computer science, computer engineering, or sof...   \n",
       "4    No  Computer science, computer engineering, or sof...   \n",
       "\n",
       "  WebframeDesireNextYear    WebframeWorkedWith  \\\n",
       "0           ASP.NET Core  ASP.NET;ASP.NET Core   \n",
       "1                    NaN                   NaN   \n",
       "2                    NaN                   NaN   \n",
       "3                    NaN                   NaN   \n",
       "4   Django;Ruby on Rails         Ruby on Rails   \n",
       "\n",
       "                              WelcomeChange WorkWeekHrs YearsCode YearsCodePro  \n",
       "0   Just as welcome now as I felt last year        50.0        36           27  \n",
       "1  Somewhat more welcome now than last year         NaN         7            4  \n",
       "2  Somewhat more welcome now than last year         NaN         4          NaN  \n",
       "3  Somewhat less welcome now than last year        40.0         7            4  \n",
       "4   Just as welcome now as I felt last year         NaN        15            8  \n",
       "\n",
       "[5 rows x 61 columns]"
      ]
     },
     "execution_count": 2,
     "metadata": {},
     "output_type": "execute_result"
    }
   ],
   "source": [
    "df = pd.read_csv(\"./data/survey_results_public.csv\")\n",
    "df.head()"
   ]
  },
  {
   "cell_type": "code",
   "execution_count": 3,
   "id": "6ebd6ebc",
   "metadata": {},
   "outputs": [
    {
     "data": {
      "text/html": [
       "<div>\n",
       "<style scoped>\n",
       "    .dataframe tbody tr th:only-of-type {\n",
       "        vertical-align: middle;\n",
       "    }\n",
       "\n",
       "    .dataframe tbody tr th {\n",
       "        vertical-align: top;\n",
       "    }\n",
       "\n",
       "    .dataframe thead th {\n",
       "        text-align: right;\n",
       "    }\n",
       "</style>\n",
       "<table border=\"1\" class=\"dataframe\">\n",
       "  <thead>\n",
       "    <tr style=\"text-align: right;\">\n",
       "      <th></th>\n",
       "      <th>Country</th>\n",
       "      <th>EdLevel</th>\n",
       "      <th>YearsCodePro</th>\n",
       "      <th>Employment</th>\n",
       "      <th>Salary</th>\n",
       "    </tr>\n",
       "  </thead>\n",
       "  <tbody>\n",
       "    <tr>\n",
       "      <th>0</th>\n",
       "      <td>Germany</td>\n",
       "      <td>Master’s degree (M.A., M.S., M.Eng., MBA, etc.)</td>\n",
       "      <td>27</td>\n",
       "      <td>Independent contractor, freelancer, or self-em...</td>\n",
       "      <td>NaN</td>\n",
       "    </tr>\n",
       "    <tr>\n",
       "      <th>1</th>\n",
       "      <td>United Kingdom</td>\n",
       "      <td>Bachelor’s degree (B.A., B.S., B.Eng., etc.)</td>\n",
       "      <td>4</td>\n",
       "      <td>Employed full-time</td>\n",
       "      <td>NaN</td>\n",
       "    </tr>\n",
       "    <tr>\n",
       "      <th>2</th>\n",
       "      <td>Russian Federation</td>\n",
       "      <td>NaN</td>\n",
       "      <td>NaN</td>\n",
       "      <td>NaN</td>\n",
       "      <td>NaN</td>\n",
       "    </tr>\n",
       "    <tr>\n",
       "      <th>3</th>\n",
       "      <td>Albania</td>\n",
       "      <td>Master’s degree (M.A., M.S., M.Eng., MBA, etc.)</td>\n",
       "      <td>4</td>\n",
       "      <td>NaN</td>\n",
       "      <td>NaN</td>\n",
       "    </tr>\n",
       "    <tr>\n",
       "      <th>4</th>\n",
       "      <td>United States</td>\n",
       "      <td>Bachelor’s degree (B.A., B.S., B.Eng., etc.)</td>\n",
       "      <td>8</td>\n",
       "      <td>Employed full-time</td>\n",
       "      <td>NaN</td>\n",
       "    </tr>\n",
       "  </tbody>\n",
       "</table>\n",
       "</div>"
      ],
      "text/plain": [
       "              Country                                          EdLevel  \\\n",
       "0             Germany  Master’s degree (M.A., M.S., M.Eng., MBA, etc.)   \n",
       "1      United Kingdom     Bachelor’s degree (B.A., B.S., B.Eng., etc.)   \n",
       "2  Russian Federation                                              NaN   \n",
       "3             Albania  Master’s degree (M.A., M.S., M.Eng., MBA, etc.)   \n",
       "4       United States     Bachelor’s degree (B.A., B.S., B.Eng., etc.)   \n",
       "\n",
       "  YearsCodePro                                         Employment  Salary  \n",
       "0           27  Independent contractor, freelancer, or self-em...     NaN  \n",
       "1            4                                 Employed full-time     NaN  \n",
       "2          NaN                                                NaN     NaN  \n",
       "3            4                                                NaN     NaN  \n",
       "4            8                                 Employed full-time     NaN  "
      ]
     },
     "execution_count": 3,
     "metadata": {},
     "output_type": "execute_result"
    }
   ],
   "source": [
    "df = df[[\"Country\", \"EdLevel\", \"YearsCodePro\", \"Employment\", \"ConvertedComp\"]]\n",
    "df = df.rename({\"ConvertedComp\": \"Salary\"}, axis=1)\n",
    "df.head()"
   ]
  },
  {
   "cell_type": "code",
   "execution_count": 4,
   "id": "0ca3197b",
   "metadata": {},
   "outputs": [
    {
     "name": "stdout",
     "output_type": "stream",
     "text": [
      "<class 'pandas.core.frame.DataFrame'>\n",
      "RangeIndex: 64461 entries, 0 to 64460\n",
      "Data columns (total 5 columns):\n",
      " #   Column        Non-Null Count  Dtype  \n",
      "---  ------        --------------  -----  \n",
      " 0   Country       64072 non-null  object \n",
      " 1   EdLevel       57431 non-null  object \n",
      " 2   YearsCodePro  46349 non-null  object \n",
      " 3   Employment    63854 non-null  object \n",
      " 4   Salary        34756 non-null  float64\n",
      "dtypes: float64(1), object(4)\n",
      "memory usage: 2.5+ MB\n"
     ]
    }
   ],
   "source": [
    "df.info()"
   ]
  },
  {
   "cell_type": "code",
   "execution_count": 5,
   "id": "01ff44b8",
   "metadata": {},
   "outputs": [
    {
     "data": {
      "text/plain": [
       "Country         0\n",
       "EdLevel         0\n",
       "YearsCodePro    0\n",
       "Employment      0\n",
       "Salary          0\n",
       "dtype: int64"
      ]
     },
     "execution_count": 5,
     "metadata": {},
     "output_type": "execute_result"
    }
   ],
   "source": [
    "df = df.dropna()\n",
    "df.isnull().sum()"
   ]
  },
  {
   "cell_type": "code",
   "execution_count": 6,
   "id": "e69b6c98",
   "metadata": {},
   "outputs": [
    {
     "name": "stdout",
     "output_type": "stream",
     "text": [
      "<class 'pandas.core.frame.DataFrame'>\n",
      "Int64Index: 30019 entries, 7 to 64154\n",
      "Data columns (total 4 columns):\n",
      " #   Column        Non-Null Count  Dtype  \n",
      "---  ------        --------------  -----  \n",
      " 0   Country       30019 non-null  object \n",
      " 1   EdLevel       30019 non-null  object \n",
      " 2   YearsCodePro  30019 non-null  object \n",
      " 3   Salary        30019 non-null  float64\n",
      "dtypes: float64(1), object(3)\n",
      "memory usage: 1.1+ MB\n"
     ]
    }
   ],
   "source": [
    "df = df[df[\"Employment\"] == \"Employed full-time\"]\n",
    "df = df.drop(\"Employment\", axis=1)\n",
    "df.info()"
   ]
  },
  {
   "cell_type": "code",
   "execution_count": 7,
   "id": "9567a29c",
   "metadata": {},
   "outputs": [
    {
     "data": {
      "text/plain": [
       "United States     7569\n",
       "India             2425\n",
       "United Kingdom    2287\n",
       "Germany           1903\n",
       "Canada            1178\n",
       "                  ... \n",
       "Guinea               1\n",
       "Belize               1\n",
       "Namibia              1\n",
       "Swaziland            1\n",
       "Benin                1\n",
       "Name: Country, Length: 154, dtype: int64"
      ]
     },
     "execution_count": 7,
     "metadata": {},
     "output_type": "execute_result"
    }
   ],
   "source": [
    "df['Country'].value_counts()"
   ]
  },
  {
   "cell_type": "code",
   "execution_count": 8,
   "id": "40114ea1",
   "metadata": {},
   "outputs": [],
   "source": [
    "def shorten_categories(categories, cutoff):\n",
    "    categorical_map = {}\n",
    "    for i in range(len(categories)):\n",
    "        if categories.values[i] >= cutoff:\n",
    "            categorical_map[categories.index[i]] = categories.index[i]\n",
    "        else:\n",
    "            categorical_map[categories.index[i]] = 'Other'\n",
    "    return categorical_map"
   ]
  },
  {
   "cell_type": "code",
   "execution_count": 9,
   "id": "27387124",
   "metadata": {},
   "outputs": [],
   "source": [
    "country_map = shorten_categories(df.Country.value_counts(), 400)"
   ]
  },
  {
   "cell_type": "code",
   "execution_count": 10,
   "id": "0e019c4f",
   "metadata": {},
   "outputs": [
    {
     "data": {
      "text/plain": [
       "Other                 8549\n",
       "United States         7569\n",
       "India                 2425\n",
       "United Kingdom        2287\n",
       "Germany               1903\n",
       "Canada                1178\n",
       "Brazil                 991\n",
       "France                 972\n",
       "Spain                  670\n",
       "Australia              659\n",
       "Netherlands            654\n",
       "Poland                 566\n",
       "Italy                  560\n",
       "Russian Federation     522\n",
       "Sweden                 514\n",
       "Name: Country, dtype: int64"
      ]
     },
     "execution_count": 10,
     "metadata": {},
     "output_type": "execute_result"
    }
   ],
   "source": [
    "df['Country'] = df['Country'].map(country_map)\n",
    "df.Country.value_counts()"
   ]
  },
  {
   "cell_type": "code",
   "execution_count": 11,
   "id": "4add7908",
   "metadata": {},
   "outputs": [
    {
     "data": {
      "text/plain": [
       "array(['United States', 'United Kingdom', 'Spain', 'Netherlands',\n",
       "       'Germany', 'Canada', 'Other', 'Italy', 'Brazil', 'France',\n",
       "       'Poland', 'India', 'Sweden', 'Australia', 'Russian Federation'],\n",
       "      dtype=object)"
      ]
     },
     "execution_count": 11,
     "metadata": {},
     "output_type": "execute_result"
    }
   ],
   "source": [
    "df['Country'].unique()"
   ]
  },
  {
   "cell_type": "code",
   "execution_count": 12,
   "id": "ce539a07",
   "metadata": {},
   "outputs": [
    {
     "data": {
      "text/plain": [
       "array(['13', '4', '2', '7', '20', '1', '3', '12', '10', '14', '29', '6',\n",
       "       '28', '8', '23', '15', '25', 'Less than 1 year', '5', '9', '11',\n",
       "       '21', '16', '18', '32', '19', '22', '38', '30', '26', '17', '27',\n",
       "       '24', '33', '34', '35', '36', '40', '39', 'More than 50 years',\n",
       "       '31', '37', '41', '45', '42', '44', '43', '50', '49', '47', '46'],\n",
       "      dtype=object)"
      ]
     },
     "execution_count": 12,
     "metadata": {},
     "output_type": "execute_result"
    }
   ],
   "source": [
    "df[\"YearsCodePro\"].unique()\n"
   ]
  },
  {
   "cell_type": "code",
   "execution_count": 13,
   "id": "ce82e9c1",
   "metadata": {},
   "outputs": [],
   "source": [
    "def clean_experience(x):\n",
    "    if x ==  'More than 50 years':\n",
    "        return 50\n",
    "    if x == 'Less than 1 year':\n",
    "        return 0.5\n",
    "    return float(x)\n",
    "\n",
    "df['YearsCodePro'] = df['YearsCodePro'].apply(clean_experience)"
   ]
  },
  {
   "cell_type": "code",
   "execution_count": 14,
   "id": "ae608333",
   "metadata": {},
   "outputs": [
    {
     "data": {
      "text/plain": [
       "array(['Bachelor’s degree (B.A., B.S., B.Eng., etc.)',\n",
       "       'Master’s degree (M.A., M.S., M.Eng., MBA, etc.)',\n",
       "       'Some college/university study without earning a degree',\n",
       "       'Secondary school (e.g. American high school, German Realschule or Gymnasium, etc.)',\n",
       "       'Associate degree (A.A., A.S., etc.)',\n",
       "       'Professional degree (JD, MD, etc.)',\n",
       "       'Other doctoral degree (Ph.D., Ed.D., etc.)',\n",
       "       'I never completed any formal education',\n",
       "       'Primary/elementary school'], dtype=object)"
      ]
     },
     "execution_count": 14,
     "metadata": {},
     "output_type": "execute_result"
    }
   ],
   "source": [
    "df[\"EdLevel\"].unique()"
   ]
  },
  {
   "cell_type": "code",
   "execution_count": 15,
   "id": "5c4fa65e",
   "metadata": {},
   "outputs": [],
   "source": [
    "def clean_education(x):\n",
    "    if 'Bachelor’s degree' in x:\n",
    "        return 'Bachelor’s degree'\n",
    "    if 'Master’s degree' in x:\n",
    "        return 'Master’s degree'\n",
    "    if 'Professional degree' in x or 'Other doctoral' in x:\n",
    "        return 'Post grad'\n",
    "    return 'Less than a Bachelors'\n",
    "\n",
    "df['EdLevel'] = df['EdLevel'].apply(clean_education)"
   ]
  },
  {
   "cell_type": "code",
   "execution_count": 16,
   "id": "702bc437",
   "metadata": {},
   "outputs": [
    {
     "data": {
      "text/plain": [
       "array(['Bachelor’s degree', 'Master’s degree', 'Less than a Bachelors',\n",
       "       'Post grad'], dtype=object)"
      ]
     },
     "execution_count": 16,
     "metadata": {},
     "output_type": "execute_result"
    }
   ],
   "source": [
    "df[\"EdLevel\"].unique()"
   ]
  },
  {
   "cell_type": "code",
   "execution_count": 17,
   "id": "c105b590",
   "metadata": {},
   "outputs": [
    {
     "data": {
      "text/plain": [
       "array([0, 2, 1, 3])"
      ]
     },
     "execution_count": 17,
     "metadata": {},
     "output_type": "execute_result"
    }
   ],
   "source": [
    "from sklearn.preprocessing import LabelEncoder\n",
    "le_education = LabelEncoder()\n",
    "df['EdLevel'] = le_education.fit_transform(df['EdLevel'])\n",
    "df[\"EdLevel\"].unique()"
   ]
  },
  {
   "cell_type": "code",
   "execution_count": 18,
   "id": "0f91ecaa",
   "metadata": {},
   "outputs": [
    {
     "data": {
      "text/plain": [
       "array([14, 13, 11,  7,  4,  2,  8,  6,  1,  3,  9,  5, 12,  0, 10])"
      ]
     },
     "execution_count": 18,
     "metadata": {},
     "output_type": "execute_result"
    }
   ],
   "source": [
    "le_country = LabelEncoder()\n",
    "df['Country'] = le_country.fit_transform(df['Country'])\n",
    "df[\"Country\"].unique()"
   ]
  },
  {
   "cell_type": "code",
   "execution_count": 19,
   "id": "903791c3",
   "metadata": {},
   "outputs": [],
   "source": [
    "X = df.drop(\"Salary\", axis=1)\n",
    "y = df[\"Salary\"]"
   ]
  },
  {
   "cell_type": "code",
   "execution_count": 20,
   "id": "950e257e",
   "metadata": {},
   "outputs": [],
   "source": [
    "from sklearn.model_selection import train_test_split\n",
    "X_train, X_test, y_train, y_test = train_test_split(X, y, test_size=0.33, random_state=42)"
   ]
  },
  {
   "cell_type": "markdown",
   "id": "fa3e0489",
   "metadata": {},
   "source": [
    "# Linear Regression"
   ]
  },
  {
   "cell_type": "code",
   "execution_count": 21,
   "id": "9c2eb864",
   "metadata": {},
   "outputs": [
    {
     "data": {
      "text/plain": [
       "LinearRegression()"
      ]
     },
     "execution_count": 21,
     "metadata": {},
     "output_type": "execute_result"
    }
   ],
   "source": [
    "from sklearn.linear_model import LinearRegression\n",
    "linear_reg = LinearRegression()\n",
    "linear_reg.fit(X_train, y_train.values)"
   ]
  },
  {
   "cell_type": "code",
   "execution_count": 22,
   "id": "3df0ad85",
   "metadata": {},
   "outputs": [],
   "source": [
    "y_pred = linear_reg.predict(X_test)\n"
   ]
  },
  {
   "cell_type": "code",
   "execution_count": 24,
   "id": "af030c11",
   "metadata": {},
   "outputs": [
    {
     "data": {
      "text/plain": [
       "237544.8688099654"
      ]
     },
     "execution_count": 24,
     "metadata": {},
     "output_type": "execute_result"
    }
   ],
   "source": [
    "from sklearn.metrics import mean_squared_error, mean_absolute_error\n",
    "error = np.sqrt(mean_squared_error(y_test, y_pred))\n",
    "error"
   ]
  },
  {
   "cell_type": "markdown",
   "id": "8e09bac4",
   "metadata": {},
   "source": [
    "# Decision tree"
   ]
  },
  {
   "cell_type": "code",
   "execution_count": 25,
   "id": "a6d93844",
   "metadata": {},
   "outputs": [
    {
     "data": {
      "text/plain": [
       "DecisionTreeRegressor(random_state=0)"
      ]
     },
     "execution_count": 25,
     "metadata": {},
     "output_type": "execute_result"
    }
   ],
   "source": [
    "from sklearn.tree import DecisionTreeRegressor\n",
    "dec_tree_reg = DecisionTreeRegressor(random_state=0)\n",
    "dec_tree_reg.fit(X_train, y_train.values)"
   ]
  },
  {
   "cell_type": "code",
   "execution_count": 26,
   "id": "bcdc7cc2",
   "metadata": {},
   "outputs": [],
   "source": [
    "y_pred2 = dec_tree_reg.predict(X_test)\n"
   ]
  },
  {
   "cell_type": "code",
   "execution_count": 28,
   "id": "1cbfd5e1",
   "metadata": {},
   "outputs": [
    {
     "data": {
      "text/plain": [
       "238783.79343103373"
      ]
     },
     "execution_count": 28,
     "metadata": {},
     "output_type": "execute_result"
    }
   ],
   "source": [
    "error = np.sqrt(mean_squared_error(y_test, y_pred2))\n",
    "error"
   ]
  },
  {
   "cell_type": "markdown",
   "id": "8d8308fe",
   "metadata": {},
   "source": [
    "# Random forest"
   ]
  },
  {
   "cell_type": "code",
   "execution_count": 29,
   "id": "636dfc6e",
   "metadata": {},
   "outputs": [
    {
     "data": {
      "text/plain": [
       "RandomForestRegressor(random_state=0)"
      ]
     },
     "execution_count": 29,
     "metadata": {},
     "output_type": "execute_result"
    }
   ],
   "source": [
    "from sklearn.ensemble import RandomForestRegressor\n",
    "random_forest_reg = RandomForestRegressor(random_state=0)\n",
    "random_forest_reg.fit(X_train, y_train.values)"
   ]
  },
  {
   "cell_type": "code",
   "execution_count": 30,
   "id": "0731b9b4",
   "metadata": {},
   "outputs": [],
   "source": [
    "y_pred3 = random_forest_reg.predict(X_test)\n"
   ]
  },
  {
   "cell_type": "code",
   "execution_count": 32,
   "id": "bf0c98f7",
   "metadata": {},
   "outputs": [
    {
     "data": {
      "text/plain": [
       "237007.74624320213"
      ]
     },
     "execution_count": 32,
     "metadata": {},
     "output_type": "execute_result"
    }
   ],
   "source": [
    "error = np.sqrt(mean_squared_error(y_test, y_pred3))\n",
    "error"
   ]
  },
  {
   "cell_type": "markdown",
   "id": "f1a14cb6",
   "metadata": {},
   "source": [
    "# GridSearch CV"
   ]
  },
  {
   "cell_type": "code",
   "execution_count": 44,
   "id": "727a80db",
   "metadata": {},
   "outputs": [
    {
     "data": {
      "text/plain": [
       "GridSearchCV(estimator=DecisionTreeRegressor(random_state=0),\n",
       "             param_grid={'max_depth': [None, 2, 4, 6, 8, 10, 12]},\n",
       "             scoring='neg_mean_squared_error')"
      ]
     },
     "execution_count": 44,
     "metadata": {},
     "output_type": "execute_result"
    }
   ],
   "source": [
    "from sklearn.model_selection import GridSearchCV\n",
    "\n",
    "max_depth = [None, 2,4,6,8,10,12]\n",
    "parameters = {\"max_depth\": max_depth}\n",
    "\n",
    "regressor = DecisionTreeRegressor(random_state=0)\n",
    "gs = GridSearchCV(regressor, parameters, scoring='neg_mean_squared_error')\n",
    "gs.fit(X_train, y_train.values)"
   ]
  },
  {
   "cell_type": "code",
   "execution_count": 45,
   "id": "f5095b45",
   "metadata": {},
   "outputs": [],
   "source": [
    "regressor = gs.best_estimator_\n",
    "\n",
    "regressor.fit(X_train, y_train.values)\n",
    "y_pred4 = regressor.predict(X_test)"
   ]
  },
  {
   "cell_type": "code",
   "execution_count": 46,
   "id": "81964490",
   "metadata": {},
   "outputs": [
    {
     "data": {
      "text/plain": [
       "233966.89879926157"
      ]
     },
     "execution_count": 46,
     "metadata": {},
     "output_type": "execute_result"
    }
   ],
   "source": [
    "error = np.sqrt(mean_squared_error(y_test, y_pred4))\n",
    "error"
   ]
  },
  {
   "cell_type": "markdown",
   "id": "e47d1b83",
   "metadata": {},
   "source": [
    "# Saving the model"
   ]
  },
  {
   "cell_type": "code",
   "execution_count": 39,
   "id": "11a8859c",
   "metadata": {},
   "outputs": [],
   "source": [
    "import pickle"
   ]
  },
  {
   "cell_type": "code",
   "execution_count": 47,
   "id": "2da4adea",
   "metadata": {},
   "outputs": [],
   "source": [
    "data = {\"model\": regressor, \"le_country\": le_country, \"le_education\": le_education}\n",
    "with open('model.pkl', 'wb') as file:\n",
    "    pickle.dump(data, file)"
   ]
  },
  {
   "cell_type": "code",
   "execution_count": null,
   "id": "cc8d5a2a",
   "metadata": {},
   "outputs": [],
   "source": []
  }
 ],
 "metadata": {
  "kernelspec": {
   "display_name": "Python 3",
   "language": "python",
   "name": "python3"
  },
  "language_info": {
   "codemirror_mode": {
    "name": "ipython",
    "version": 3
   },
   "file_extension": ".py",
   "mimetype": "text/x-python",
   "name": "python",
   "nbconvert_exporter": "python",
   "pygments_lexer": "ipython3",
   "version": "3.8.7"
  }
 },
 "nbformat": 4,
 "nbformat_minor": 5
}
